{
 "cells": [
  {
   "cell_type": "code",
   "execution_count": 1,
   "id": "31cd7aa3",
   "metadata": {
    "_cell_guid": "b1076dfc-b9ad-4769-8c92-a6c4dae69d19",
    "_uuid": "8f2839f25d086af736a60e9eeb907d3b93b6e0e5",
    "execution": {
     "iopub.execute_input": "2023-06-27T13:28:11.903945Z",
     "iopub.status.busy": "2023-06-27T13:28:11.903562Z",
     "iopub.status.idle": "2023-06-27T13:28:11.914560Z",
     "shell.execute_reply": "2023-06-27T13:28:11.913739Z"
    },
    "papermill": {
     "duration": 0.020688,
     "end_time": "2023-06-27T13:28:11.916765",
     "exception": false,
     "start_time": "2023-06-27T13:28:11.896077",
     "status": "completed"
    },
    "tags": []
   },
   "outputs": [],
   "source": [
    "import numpy as np # linear algebra\n",
    "import pandas as pd # data processing, CSV file I/O (e.g. pd.read_csv)\n",
    "from matplotlib import pyplot as plt # visualization"
   ]
  },
  {
   "cell_type": "code",
   "execution_count": null,
   "id": "43db1a88",
   "metadata": {
    "jupyter": {
     "source_hidden": true
    },
    "papermill": {
     "duration": 0.003945,
     "end_time": "2023-06-27T13:28:11.925234",
     "exception": false,
     "start_time": "2023-06-27T13:28:11.921289",
     "status": "completed"
    },
    "tags": []
   },
   "outputs": [],
   "source": []
  },
  {
   "cell_type": "code",
   "execution_count": 2,
   "id": "6b84447a",
   "metadata": {
    "execution": {
     "iopub.execute_input": "2023-06-27T13:28:11.935741Z",
     "iopub.status.busy": "2023-06-27T13:28:11.935050Z",
     "iopub.status.idle": "2023-06-27T13:28:16.167217Z",
     "shell.execute_reply": "2023-06-27T13:28:16.166009Z"
    },
    "papermill": {
     "duration": 4.240353,
     "end_time": "2023-06-27T13:28:16.169791",
     "exception": false,
     "start_time": "2023-06-27T13:28:11.929438",
     "status": "completed"
    },
    "tags": []
   },
   "outputs": [],
   "source": [
    "data = pd.read_csv('/kaggle/input/digit-recognizer/train.csv')"
   ]
  },
  {
   "cell_type": "code",
   "execution_count": 3,
   "id": "401dab7d",
   "metadata": {
    "execution": {
     "iopub.execute_input": "2023-06-27T13:28:16.180954Z",
     "iopub.status.busy": "2023-06-27T13:28:16.180135Z",
     "iopub.status.idle": "2023-06-27T13:28:16.219127Z",
     "shell.execute_reply": "2023-06-27T13:28:16.218258Z"
    },
    "papermill": {
     "duration": 0.047134,
     "end_time": "2023-06-27T13:28:16.221628",
     "exception": false,
     "start_time": "2023-06-27T13:28:16.174494",
     "status": "completed"
    },
    "tags": []
   },
   "outputs": [
    {
     "data": {
      "text/html": [
       "<div>\n",
       "<style scoped>\n",
       "    .dataframe tbody tr th:only-of-type {\n",
       "        vertical-align: middle;\n",
       "    }\n",
       "\n",
       "    .dataframe tbody tr th {\n",
       "        vertical-align: top;\n",
       "    }\n",
       "\n",
       "    .dataframe thead th {\n",
       "        text-align: right;\n",
       "    }\n",
       "</style>\n",
       "<table border=\"1\" class=\"dataframe\">\n",
       "  <thead>\n",
       "    <tr style=\"text-align: right;\">\n",
       "      <th></th>\n",
       "      <th>label</th>\n",
       "      <th>pixel0</th>\n",
       "      <th>pixel1</th>\n",
       "      <th>pixel2</th>\n",
       "      <th>pixel3</th>\n",
       "      <th>pixel4</th>\n",
       "      <th>pixel5</th>\n",
       "      <th>pixel6</th>\n",
       "      <th>pixel7</th>\n",
       "      <th>pixel8</th>\n",
       "      <th>...</th>\n",
       "      <th>pixel774</th>\n",
       "      <th>pixel775</th>\n",
       "      <th>pixel776</th>\n",
       "      <th>pixel777</th>\n",
       "      <th>pixel778</th>\n",
       "      <th>pixel779</th>\n",
       "      <th>pixel780</th>\n",
       "      <th>pixel781</th>\n",
       "      <th>pixel782</th>\n",
       "      <th>pixel783</th>\n",
       "    </tr>\n",
       "  </thead>\n",
       "  <tbody>\n",
       "    <tr>\n",
       "      <th>0</th>\n",
       "      <td>1</td>\n",
       "      <td>0</td>\n",
       "      <td>0</td>\n",
       "      <td>0</td>\n",
       "      <td>0</td>\n",
       "      <td>0</td>\n",
       "      <td>0</td>\n",
       "      <td>0</td>\n",
       "      <td>0</td>\n",
       "      <td>0</td>\n",
       "      <td>...</td>\n",
       "      <td>0</td>\n",
       "      <td>0</td>\n",
       "      <td>0</td>\n",
       "      <td>0</td>\n",
       "      <td>0</td>\n",
       "      <td>0</td>\n",
       "      <td>0</td>\n",
       "      <td>0</td>\n",
       "      <td>0</td>\n",
       "      <td>0</td>\n",
       "    </tr>\n",
       "    <tr>\n",
       "      <th>1</th>\n",
       "      <td>0</td>\n",
       "      <td>0</td>\n",
       "      <td>0</td>\n",
       "      <td>0</td>\n",
       "      <td>0</td>\n",
       "      <td>0</td>\n",
       "      <td>0</td>\n",
       "      <td>0</td>\n",
       "      <td>0</td>\n",
       "      <td>0</td>\n",
       "      <td>...</td>\n",
       "      <td>0</td>\n",
       "      <td>0</td>\n",
       "      <td>0</td>\n",
       "      <td>0</td>\n",
       "      <td>0</td>\n",
       "      <td>0</td>\n",
       "      <td>0</td>\n",
       "      <td>0</td>\n",
       "      <td>0</td>\n",
       "      <td>0</td>\n",
       "    </tr>\n",
       "    <tr>\n",
       "      <th>2</th>\n",
       "      <td>1</td>\n",
       "      <td>0</td>\n",
       "      <td>0</td>\n",
       "      <td>0</td>\n",
       "      <td>0</td>\n",
       "      <td>0</td>\n",
       "      <td>0</td>\n",
       "      <td>0</td>\n",
       "      <td>0</td>\n",
       "      <td>0</td>\n",
       "      <td>...</td>\n",
       "      <td>0</td>\n",
       "      <td>0</td>\n",
       "      <td>0</td>\n",
       "      <td>0</td>\n",
       "      <td>0</td>\n",
       "      <td>0</td>\n",
       "      <td>0</td>\n",
       "      <td>0</td>\n",
       "      <td>0</td>\n",
       "      <td>0</td>\n",
       "    </tr>\n",
       "    <tr>\n",
       "      <th>3</th>\n",
       "      <td>4</td>\n",
       "      <td>0</td>\n",
       "      <td>0</td>\n",
       "      <td>0</td>\n",
       "      <td>0</td>\n",
       "      <td>0</td>\n",
       "      <td>0</td>\n",
       "      <td>0</td>\n",
       "      <td>0</td>\n",
       "      <td>0</td>\n",
       "      <td>...</td>\n",
       "      <td>0</td>\n",
       "      <td>0</td>\n",
       "      <td>0</td>\n",
       "      <td>0</td>\n",
       "      <td>0</td>\n",
       "      <td>0</td>\n",
       "      <td>0</td>\n",
       "      <td>0</td>\n",
       "      <td>0</td>\n",
       "      <td>0</td>\n",
       "    </tr>\n",
       "    <tr>\n",
       "      <th>4</th>\n",
       "      <td>0</td>\n",
       "      <td>0</td>\n",
       "      <td>0</td>\n",
       "      <td>0</td>\n",
       "      <td>0</td>\n",
       "      <td>0</td>\n",
       "      <td>0</td>\n",
       "      <td>0</td>\n",
       "      <td>0</td>\n",
       "      <td>0</td>\n",
       "      <td>...</td>\n",
       "      <td>0</td>\n",
       "      <td>0</td>\n",
       "      <td>0</td>\n",
       "      <td>0</td>\n",
       "      <td>0</td>\n",
       "      <td>0</td>\n",
       "      <td>0</td>\n",
       "      <td>0</td>\n",
       "      <td>0</td>\n",
       "      <td>0</td>\n",
       "    </tr>\n",
       "  </tbody>\n",
       "</table>\n",
       "<p>5 rows × 785 columns</p>\n",
       "</div>"
      ],
      "text/plain": [
       "   label  pixel0  pixel1  pixel2  pixel3  pixel4  pixel5  pixel6  pixel7  \\\n",
       "0      1       0       0       0       0       0       0       0       0   \n",
       "1      0       0       0       0       0       0       0       0       0   \n",
       "2      1       0       0       0       0       0       0       0       0   \n",
       "3      4       0       0       0       0       0       0       0       0   \n",
       "4      0       0       0       0       0       0       0       0       0   \n",
       "\n",
       "   pixel8  ...  pixel774  pixel775  pixel776  pixel777  pixel778  pixel779  \\\n",
       "0       0  ...         0         0         0         0         0         0   \n",
       "1       0  ...         0         0         0         0         0         0   \n",
       "2       0  ...         0         0         0         0         0         0   \n",
       "3       0  ...         0         0         0         0         0         0   \n",
       "4       0  ...         0         0         0         0         0         0   \n",
       "\n",
       "   pixel780  pixel781  pixel782  pixel783  \n",
       "0         0         0         0         0  \n",
       "1         0         0         0         0  \n",
       "2         0         0         0         0  \n",
       "3         0         0         0         0  \n",
       "4         0         0         0         0  \n",
       "\n",
       "[5 rows x 785 columns]"
      ]
     },
     "execution_count": 3,
     "metadata": {},
     "output_type": "execute_result"
    }
   ],
   "source": [
    "data.head()"
   ]
  },
  {
   "cell_type": "code",
   "execution_count": 4,
   "id": "621ad84d",
   "metadata": {
    "execution": {
     "iopub.execute_input": "2023-06-27T13:28:16.233441Z",
     "iopub.status.busy": "2023-06-27T13:28:16.233037Z",
     "iopub.status.idle": "2023-06-27T13:28:17.061614Z",
     "shell.execute_reply": "2023-06-27T13:28:17.060403Z"
    },
    "papermill": {
     "duration": 0.837599,
     "end_time": "2023-06-27T13:28:17.064405",
     "exception": false,
     "start_time": "2023-06-27T13:28:16.226806",
     "status": "completed"
    },
    "tags": []
   },
   "outputs": [],
   "source": [
    "data = np.array(data) #put pandas dataframe into numpy array\n",
    "m, n = data.shape #m is amount of rows, n is amount of features + 1\n",
    "np.random.shuffle(data) #randomly rearrange training examples\n",
    "\n",
    "# Split data into training and validation datasets\n",
    "\n",
    "data_validate = data[0:1000].T # validation set\n",
    "Y_validate = data_validate[0] # labels\n",
    "X_validate = data_validate[1:n] # features\n",
    "X_validate = X_validate / 255\n",
    "\n",
    "data_train = data[1000:m].T # training set\n",
    "Y_train = data_train[0] # labels\n",
    "X_train = data_train[1:n] #features\n",
    "X_train = X_train / 255\n",
    "_,m_train = X_train.shape"
   ]
  },
  {
   "cell_type": "code",
   "execution_count": 5,
   "id": "09f55a3c",
   "metadata": {
    "execution": {
     "iopub.execute_input": "2023-06-27T13:28:17.076960Z",
     "iopub.status.busy": "2023-06-27T13:28:17.075761Z",
     "iopub.status.idle": "2023-06-27T13:28:17.082742Z",
     "shell.execute_reply": "2023-06-27T13:28:17.081529Z"
    },
    "papermill": {
     "duration": 0.015605,
     "end_time": "2023-06-27T13:28:17.085291",
     "exception": false,
     "start_time": "2023-06-27T13:28:17.069686",
     "status": "completed"
    },
    "tags": []
   },
   "outputs": [
    {
     "data": {
      "text/plain": [
       "(784,)"
      ]
     },
     "execution_count": 5,
     "metadata": {},
     "output_type": "execute_result"
    }
   ],
   "source": [
    "X_train[:, 0].shape # should output how many pixels in each image"
   ]
  },
  {
   "cell_type": "code",
   "execution_count": 6,
   "id": "5f5c5118",
   "metadata": {
    "execution": {
     "iopub.execute_input": "2023-06-27T13:28:17.097396Z",
     "iopub.status.busy": "2023-06-27T13:28:17.096727Z",
     "iopub.status.idle": "2023-06-27T13:28:17.103563Z",
     "shell.execute_reply": "2023-06-27T13:28:17.102358Z"
    },
    "papermill": {
     "duration": 0.015353,
     "end_time": "2023-06-27T13:28:17.105878",
     "exception": false,
     "start_time": "2023-06-27T13:28:17.090525",
     "status": "completed"
    },
    "tags": []
   },
   "outputs": [
    {
     "data": {
      "text/plain": [
       "array([1, 2, 9, ..., 2, 1, 6])"
      ]
     },
     "execution_count": 6,
     "metadata": {},
     "output_type": "execute_result"
    }
   ],
   "source": [
    "Y_train"
   ]
  },
  {
   "cell_type": "code",
   "execution_count": 7,
   "id": "88c1c338",
   "metadata": {
    "execution": {
     "iopub.execute_input": "2023-06-27T13:28:17.117885Z",
     "iopub.status.busy": "2023-06-27T13:28:17.117504Z",
     "iopub.status.idle": "2023-06-27T13:28:17.132031Z",
     "shell.execute_reply": "2023-06-27T13:28:17.131044Z"
    },
    "papermill": {
     "duration": 0.02333,
     "end_time": "2023-06-27T13:28:17.134381",
     "exception": false,
     "start_time": "2023-06-27T13:28:17.111051",
     "status": "completed"
    },
    "tags": []
   },
   "outputs": [],
   "source": [
    "def init_params():\n",
    "    W1 = np.random.randn(10, 784) - 0.5\n",
    "    b1 = np.random.randn(10, 1) - 0.5\n",
    "    W2 = np.random.randn(10, 10) - 0.5\n",
    "    b2 = np.random.randn(10, 1) - 0.5\n",
    "    return W1, b1, W2, b2\n",
    "\n",
    "#define ReLU (recitified linear unit) activation function\n",
    "def ReLU(Z):\n",
    "    return np.maximum(0, Z) # if x > 0: y = x, else: y = 0\n",
    "\n",
    "#define ReLU (recitified linear unit) activation function\n",
    "def softmax(Z):\n",
    "    return np.exp(Z) / sum(np.exp(Z)) # returns output layer of probabilties (0-1)\n",
    "\n",
    "def forward_prop(W1, b1, W2, b2, X):\n",
    "    Z1 = W1.dot(X) + b1 # weighted sum of input layer\n",
    "    A1 = ReLU(Z1) # use ReLU activation function on weighted sum of input layer to get first hidden layer\n",
    "    Z2 = W2.dot(A1) + b2 # weighted sum of input layer\n",
    "    A2 = softmax(Z2) # use softmax activation function on weighted sum of first hidden layer to get output layer of probabilities\n",
    "    return Z1, A1, Z2, A2\n",
    "\n",
    "def one_hot(Y):\n",
    "    one_hot_Y = np.zeros((Y.size, Y.max() + 1)) # Creates matrix of zeros, with dimensions m (number of examples) and n (possible output classes)\n",
    "    one_hot_Y[np.arange(Y.size), Y] = 1\n",
    "    one_hot_Y = one_hot_Y.T\n",
    "    return one_hot_Y\n",
    "\n",
    "def deriv_ReLU(Z):\n",
    "    return Z > 0 #if Z > 0, derivative will be derivative of x (1 or TRUE), if Z <= 0, derivative will be derivative of 0 (0 or FALSE)\n",
    "\n",
    "def back_prop(Z1, A1, Z2, A2, W1, W2, X, Y):\n",
    "    one_hot_Y = one_hot(Y)\n",
    "    dZ2 = A2 - one_hot_Y\n",
    "    dW2 = 1 / m * dZ2.dot(A1.T)\n",
    "    db2 = 1 / m * np.sum(dZ2)\n",
    "    dZ1 = W2.T.dot(dZ2) + deriv_ReLU(Z1)\n",
    "    dW1 = 1 / m * dZ1.dot(X.T)\n",
    "    db1 = 1 / m * np.sum(dZ1)\n",
    "    return dW1, db1, dW2, db2\n",
    "\n",
    "def update_params(W1, b1, W2, b2, dW1, db1, dW2, db2, alpha):\n",
    "    W1 = W1 - dW1 * alpha\n",
    "    b1 = b1 - db1 * alpha\n",
    "    W2 = W2 - dW2 * alpha\n",
    "    b2 = b2 - db2 * alpha\n",
    "    return W1, b1, W2, b2"
   ]
  },
  {
   "cell_type": "code",
   "execution_count": 8,
   "id": "e23879ea",
   "metadata": {
    "execution": {
     "iopub.execute_input": "2023-06-27T13:28:17.148121Z",
     "iopub.status.busy": "2023-06-27T13:28:17.147513Z",
     "iopub.status.idle": "2023-06-27T13:28:17.156698Z",
     "shell.execute_reply": "2023-06-27T13:28:17.155398Z"
    },
    "papermill": {
     "duration": 0.018119,
     "end_time": "2023-06-27T13:28:17.159078",
     "exception": false,
     "start_time": "2023-06-27T13:28:17.140959",
     "status": "completed"
    },
    "tags": []
   },
   "outputs": [],
   "source": [
    "def get_predictions(A2):\n",
    "    return np.argmax(A2, 0)\n",
    "\n",
    "def get_accuracy(predictions, Y):\n",
    "    print(predictions, Y)\n",
    "    return np.sum(predictions == Y) / Y.size\n",
    "    \n",
    "def gradient_descent(X, Y, iterations, alpha):\n",
    "    W1, b1, W2, b2 = init_params()\n",
    "    for i in range(iterations):\n",
    "        Z1, A1, Z2, A2 = forward_prop(W1, b1, W2, b2, X)\n",
    "        dW1, db1, dW2, db2 = back_prop(Z1, A1, Z2, A2, W1, W2, X, Y)\n",
    "        W1, b1, W2, b2 = update_params(W1, b1, W2, b2, dW1, db1, dW2, db2, alpha)\n",
    "        if i % 10 == 0:\n",
    "            print(\"Iteration: \", i)\n",
    "            print(\"Accuracy: \", get_accuracy(get_predictions(A2), Y))\n",
    "    return W1, b1, W2, b2"
   ]
  },
  {
   "cell_type": "code",
   "execution_count": 9,
   "id": "912084c5",
   "metadata": {
    "execution": {
     "iopub.execute_input": "2023-06-27T13:28:17.171362Z",
     "iopub.status.busy": "2023-06-27T13:28:17.170773Z",
     "iopub.status.idle": "2023-06-27T13:29:30.370464Z",
     "shell.execute_reply": "2023-06-27T13:29:30.368892Z"
    },
    "papermill": {
     "duration": 73.210559,
     "end_time": "2023-06-27T13:29:30.374753",
     "exception": false,
     "start_time": "2023-06-27T13:28:17.164194",
     "status": "completed"
    },
    "tags": []
   },
   "outputs": [
    {
     "name": "stdout",
     "output_type": "stream",
     "text": [
      "Iteration:  0\n",
      "[8 8 8 ... 8 8 8] [1 2 9 ... 2 1 6]\n",
      "Accuracy:  0.09665853658536586\n",
      "Iteration:  10\n",
      "[8 8 8 ... 8 8 8] [1 2 9 ... 2 1 6]\n",
      "Accuracy:  0.09665853658536586\n",
      "Iteration:  20\n",
      "[8 8 8 ... 8 8 8] [1 2 9 ... 2 1 6]\n",
      "Accuracy:  0.09665853658536586\n",
      "Iteration:  30\n",
      "[8 8 8 ... 8 8 8] [1 2 9 ... 2 1 6]\n",
      "Accuracy:  0.09665853658536586\n",
      "Iteration:  40\n",
      "[8 8 8 ... 8 8 8] [1 2 9 ... 2 1 6]\n",
      "Accuracy:  0.09680487804878049\n",
      "Iteration:  50\n",
      "[8 8 8 ... 8 8 8] [1 2 9 ... 2 1 6]\n",
      "Accuracy:  0.09895121951219513\n",
      "Iteration:  60\n",
      "[8 8 8 ... 8 8 8] [1 2 9 ... 2 1 6]\n",
      "Accuracy:  0.11436585365853659\n",
      "Iteration:  70\n",
      "[8 8 8 ... 8 8 8] [1 2 9 ... 2 1 6]\n",
      "Accuracy:  0.14360975609756096\n",
      "Iteration:  80\n",
      "[8 8 8 ... 8 8 8] [1 2 9 ... 2 1 6]\n",
      "Accuracy:  0.16107317073170732\n",
      "Iteration:  90\n",
      "[8 8 8 ... 8 8 8] [1 2 9 ... 2 1 6]\n",
      "Accuracy:  0.16853658536585367\n",
      "Iteration:  100\n",
      "[8 8 8 ... 8 8 8] [1 2 9 ... 2 1 6]\n",
      "Accuracy:  0.1725121951219512\n",
      "Iteration:  110\n",
      "[8 8 8 ... 8 8 8] [1 2 9 ... 2 1 6]\n",
      "Accuracy:  0.17385365853658535\n",
      "Iteration:  120\n",
      "[8 8 8 ... 8 8 8] [1 2 9 ... 2 1 6]\n",
      "Accuracy:  0.17534146341463414\n",
      "Iteration:  130\n",
      "[8 8 8 ... 8 8 8] [1 2 9 ... 2 1 6]\n",
      "Accuracy:  0.1775121951219512\n",
      "Iteration:  140\n",
      "[8 8 8 ... 8 8 8] [1 2 9 ... 2 1 6]\n",
      "Accuracy:  0.18148780487804878\n",
      "Iteration:  150\n",
      "[8 8 8 ... 8 8 8] [1 2 9 ... 2 1 6]\n",
      "Accuracy:  0.189\n",
      "Iteration:  160\n",
      "[8 8 8 ... 8 8 8] [1 2 9 ... 2 1 6]\n",
      "Accuracy:  0.19553658536585367\n",
      "Iteration:  170\n",
      "[8 8 8 ... 8 8 8] [1 2 9 ... 2 1 6]\n",
      "Accuracy:  0.2001219512195122\n",
      "Iteration:  180\n",
      "[8 8 8 ... 8 8 8] [1 2 9 ... 2 1 6]\n",
      "Accuracy:  0.20324390243902438\n",
      "Iteration:  190\n",
      "[8 8 8 ... 8 8 8] [1 2 9 ... 2 1 6]\n",
      "Accuracy:  0.20517073170731706\n",
      "Iteration:  200\n",
      "[8 8 8 ... 8 8 8] [1 2 9 ... 2 1 6]\n",
      "Accuracy:  0.20614634146341462\n",
      "Iteration:  210\n",
      "[8 8 8 ... 8 8 8] [1 2 9 ... 2 1 6]\n",
      "Accuracy:  0.20680487804878048\n",
      "Iteration:  220\n",
      "[8 8 8 ... 8 8 8] [1 2 9 ... 2 1 6]\n",
      "Accuracy:  0.20670731707317072\n",
      "Iteration:  230\n",
      "[8 8 8 ... 8 8 8] [1 2 9 ... 2 1 6]\n",
      "Accuracy:  0.20739024390243901\n",
      "Iteration:  240\n",
      "[8 8 8 ... 8 8 8] [1 2 9 ... 2 1 6]\n",
      "Accuracy:  0.20768292682926828\n",
      "Iteration:  250\n",
      "[8 8 8 ... 8 8 8] [1 2 9 ... 2 1 6]\n",
      "Accuracy:  0.20746341463414633\n",
      "Iteration:  260\n",
      "[8 8 8 ... 8 8 8] [1 2 9 ... 2 1 6]\n",
      "Accuracy:  0.2077560975609756\n",
      "Iteration:  270\n",
      "[8 8 8 ... 8 8 8] [1 2 9 ... 2 1 6]\n",
      "Accuracy:  0.20741463414634145\n",
      "Iteration:  280\n",
      "[8 8 8 ... 8 8 8] [1 2 9 ... 2 1 6]\n",
      "Accuracy:  0.20690243902439023\n",
      "Iteration:  290\n",
      "[8 8 8 ... 8 8 8] [1 2 9 ... 2 1 6]\n",
      "Accuracy:  0.2073170731707317\n",
      "Iteration:  300\n",
      "[8 8 8 ... 8 8 8] [1 2 9 ... 2 1 6]\n",
      "Accuracy:  0.20660975609756096\n",
      "Iteration:  310\n",
      "[8 8 8 ... 8 8 8] [1 2 9 ... 2 1 6]\n",
      "Accuracy:  0.2059512195121951\n",
      "Iteration:  320\n",
      "[8 8 8 ... 8 8 8] [1 2 9 ... 2 1 6]\n",
      "Accuracy:  0.20585365853658535\n",
      "Iteration:  330\n",
      "[8 8 8 ... 8 8 8] [1 2 9 ... 2 1 6]\n",
      "Accuracy:  0.20524390243902438\n",
      "Iteration:  340\n",
      "[8 8 8 ... 8 8 8] [1 2 9 ... 2 1 6]\n",
      "Accuracy:  0.2048780487804878\n",
      "Iteration:  350\n",
      "[8 8 8 ... 8 8 8] [1 2 9 ... 2 1 6]\n",
      "Accuracy:  0.2040731707317073\n",
      "Iteration:  360\n",
      "[8 8 8 ... 8 8 8] [1 2 9 ... 2 1 6]\n",
      "Accuracy:  0.20360975609756096\n",
      "Iteration:  370\n",
      "[8 8 8 ... 8 8 8] [1 2 9 ... 2 1 6]\n",
      "Accuracy:  0.20321951219512194\n",
      "Iteration:  380\n",
      "[8 8 8 ... 8 8 8] [1 2 9 ... 2 1 6]\n",
      "Accuracy:  0.20258536585365855\n",
      "Iteration:  390\n",
      "[8 8 8 ... 8 8 8] [1 2 9 ... 2 1 6]\n",
      "Accuracy:  0.2018048780487805\n",
      "Iteration:  400\n",
      "[8 8 8 ... 8 8 8] [1 2 9 ... 2 1 6]\n",
      "Accuracy:  0.20119512195121952\n",
      "Iteration:  410\n",
      "[8 8 8 ... 8 8 8] [1 2 9 ... 2 1 6]\n",
      "Accuracy:  0.201\n",
      "Iteration:  420\n",
      "[8 8 8 ... 8 8 8] [1 2 9 ... 2 1 6]\n",
      "Accuracy:  0.20019512195121952\n",
      "Iteration:  430\n",
      "[8 8 8 ... 8 8 8] [1 2 9 ... 2 1 6]\n",
      "Accuracy:  0.20002439024390245\n",
      "Iteration:  440\n",
      "[8 8 8 ... 8 8 8] [1 2 9 ... 2 1 6]\n",
      "Accuracy:  0.19978048780487806\n",
      "Iteration:  450\n",
      "[8 8 8 ... 8 8 8] [1 2 9 ... 2 1 6]\n",
      "Accuracy:  0.19995121951219513\n",
      "Iteration:  460\n",
      "[8 8 8 ... 8 8 8] [1 2 9 ... 2 1 6]\n",
      "Accuracy:  0.20014634146341465\n",
      "Iteration:  470\n",
      "[8 8 8 ... 8 8 8] [1 2 9 ... 2 1 6]\n",
      "Accuracy:  0.20007317073170733\n",
      "Iteration:  480\n",
      "[8 8 8 ... 8 8 8] [1 2 9 ... 2 1 6]\n",
      "Accuracy:  0.19982926829268294\n",
      "Iteration:  490\n",
      "[8 8 8 ... 8 8 8] [1 2 9 ... 2 1 6]\n",
      "Accuracy:  0.19917073170731708\n"
     ]
    }
   ],
   "source": [
    "W1, b1, W2, b2 = gradient_descent(X_train, Y_train, 500, 0.05)"
   ]
  },
  {
   "cell_type": "code",
   "execution_count": null,
   "id": "469bc5a4",
   "metadata": {
    "papermill": {
     "duration": 0.019658,
     "end_time": "2023-06-27T13:29:30.415697",
     "exception": false,
     "start_time": "2023-06-27T13:29:30.396039",
     "status": "completed"
    },
    "tags": []
   },
   "outputs": [],
   "source": []
  }
 ],
 "metadata": {
  "kernelspec": {
   "display_name": "Python 3",
   "language": "python",
   "name": "python3"
  },
  "language_info": {
   "codemirror_mode": {
    "name": "ipython",
    "version": 3
   },
   "file_extension": ".py",
   "mimetype": "text/x-python",
   "name": "python",
   "nbconvert_exporter": "python",
   "pygments_lexer": "ipython3",
   "version": "3.10.10"
  },
  "papermill": {
   "default_parameters": {},
   "duration": 92.167516,
   "end_time": "2023-06-27T13:29:31.367421",
   "environment_variables": {},
   "exception": null,
   "input_path": "__notebook__.ipynb",
   "output_path": "__notebook__.ipynb",
   "parameters": {},
   "start_time": "2023-06-27T13:27:59.199905",
   "version": "2.4.0"
  }
 },
 "nbformat": 4,
 "nbformat_minor": 5
}
